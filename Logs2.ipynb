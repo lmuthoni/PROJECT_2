{
 "cells": [
  {
   "cell_type": "markdown",
   "id": "7000648c",
   "metadata": {},
   "source": [
    "# Load Dataset"
   ]
  },
  {
   "cell_type": "code",
   "execution_count": 1,
   "id": "95e6ad9e",
   "metadata": {},
   "outputs": [],
   "source": [
    " import pandas as pd"
   ]
  },
  {
   "cell_type": "code",
   "execution_count": 2,
   "id": "0d5ebbf1",
   "metadata": {},
   "outputs": [],
   "source": [
    "channel2 = pd.read_csv('logs_1.csv')\n"
   ]
  },
  {
   "cell_type": "code",
   "execution_count": 3,
   "id": "65545a0b",
   "metadata": {},
   "outputs": [
    {
     "data": {
      "text/plain": [
       "(91, 12)"
      ]
     },
     "execution_count": 3,
     "metadata": {},
     "output_type": "execute_result"
    }
   ],
   "source": [
    "# data structure\n",
    "\n",
    "channel2.shape"
   ]
  },
  {
   "cell_type": "code",
   "execution_count": 4,
   "id": "b4f8cb88",
   "metadata": {},
   "outputs": [
    {
     "data": {
      "text/plain": [
       "(91, 389)"
      ]
     },
     "execution_count": 4,
     "metadata": {},
     "output_type": "execute_result"
    }
   ],
   "source": [
    "# Incase we use dummies the structure will be\n",
    "\n",
    "pd.get_dummies(channel2).shape"
   ]
  },
  {
   "cell_type": "code",
   "execution_count": 5,
   "id": "0dbebd62",
   "metadata": {},
   "outputs": [],
   "source": [
    "# remove unwanted columns\n",
    "\n",
    "channel2_drop = channel2.drop(['Facility name', 'Username','Channel name','Content title', 'Time of first interaction', 'Time of last interaction', 'Time of completion'], axis=1)"
   ]
  },
  {
   "cell_type": "code",
   "execution_count": 6,
   "id": "d203603e",
   "metadata": {},
   "outputs": [
    {
     "data": {
      "text/plain": [
       "(91, 101)"
      ]
     },
     "execution_count": 6,
     "metadata": {},
     "output_type": "execute_result"
    }
   ],
   "source": [
    "pd.get_dummies(channel2_drop).shape"
   ]
  },
  {
   "cell_type": "code",
   "execution_count": 7,
   "id": "b2cb8925",
   "metadata": {},
   "outputs": [
    {
     "data": {
      "text/html": [
       "<div>\n",
       "<style scoped>\n",
       "    .dataframe tbody tr th:only-of-type {\n",
       "        vertical-align: middle;\n",
       "    }\n",
       "\n",
       "    .dataframe tbody tr th {\n",
       "        vertical-align: top;\n",
       "    }\n",
       "\n",
       "    .dataframe thead th {\n",
       "        text-align: right;\n",
       "    }\n",
       "</style>\n",
       "<table border=\"1\" class=\"dataframe\">\n",
       "  <thead>\n",
       "    <tr style=\"text-align: right;\">\n",
       "      <th></th>\n",
       "      <th>Channel_id</th>\n",
       "      <th>Content_id</th>\n",
       "      <th>Time_Spent</th>\n",
       "      <th>Progress</th>\n",
       "      <th>Content_kind</th>\n",
       "    </tr>\n",
       "  </thead>\n",
       "  <tbody>\n",
       "    <tr>\n",
       "      <th>0</th>\n",
       "      <td>f624baf0c6064d2287d61b15ba144d3d</td>\n",
       "      <td>f79e57fcc2ab4529ae200213689e395f</td>\n",
       "      <td>120.1</td>\n",
       "      <td>0</td>\n",
       "      <td>html5</td>\n",
       "    </tr>\n",
       "    <tr>\n",
       "      <th>1</th>\n",
       "      <td>f624baf0c6064d2287d61b15ba144d3d</td>\n",
       "      <td>ba6fa715c5e654ed8f8f026788c4d2fa</td>\n",
       "      <td>2323.5</td>\n",
       "      <td>1</td>\n",
       "      <td>html5</td>\n",
       "    </tr>\n",
       "    <tr>\n",
       "      <th>2</th>\n",
       "      <td>f624baf0c6064d2287d61b15ba144d3d</td>\n",
       "      <td>cebe3d81c81e56feb64d699f3da03418</td>\n",
       "      <td>55.1</td>\n",
       "      <td>0</td>\n",
       "      <td>html5</td>\n",
       "    </tr>\n",
       "    <tr>\n",
       "      <th>3</th>\n",
       "      <td>f624baf0c6064d2287d61b15ba144d3d</td>\n",
       "      <td>b6c0267716aa5123b0645315a10d2e33</td>\n",
       "      <td>340.3</td>\n",
       "      <td>1</td>\n",
       "      <td>html5</td>\n",
       "    </tr>\n",
       "    <tr>\n",
       "      <th>4</th>\n",
       "      <td>f624baf0c6064d2287d61b15ba144d3d</td>\n",
       "      <td>deae9a59c3875d6ba38d274eecb25b3f</td>\n",
       "      <td>825.1</td>\n",
       "      <td>1</td>\n",
       "      <td>html5</td>\n",
       "    </tr>\n",
       "    <tr>\n",
       "      <th>...</th>\n",
       "      <td>...</td>\n",
       "      <td>...</td>\n",
       "      <td>...</td>\n",
       "      <td>...</td>\n",
       "      <td>...</td>\n",
       "    </tr>\n",
       "    <tr>\n",
       "      <th>86</th>\n",
       "      <td>5212fc7438ea46de83f619f08ac05598</td>\n",
       "      <td>cb37c93c38004e06a14335788b6374ec</td>\n",
       "      <td>10.0</td>\n",
       "      <td>0</td>\n",
       "      <td>html5</td>\n",
       "    </tr>\n",
       "    <tr>\n",
       "      <th>87</th>\n",
       "      <td>5212fc7438ea46de83f619f08ac05598</td>\n",
       "      <td>675f29d8d70a47e88d6805042a935023</td>\n",
       "      <td>618.9</td>\n",
       "      <td>1</td>\n",
       "      <td>html5</td>\n",
       "    </tr>\n",
       "    <tr>\n",
       "      <th>88</th>\n",
       "      <td>5212fc7438ea46de83f619f08ac05598</td>\n",
       "      <td>cd9a5d9a84e14273961cb0579643ceb4</td>\n",
       "      <td>440.8</td>\n",
       "      <td>1</td>\n",
       "      <td>html5</td>\n",
       "    </tr>\n",
       "    <tr>\n",
       "      <th>89</th>\n",
       "      <td>696c75647fb04235be2e2c8549cf5a90</td>\n",
       "      <td>a696bfc558a04971b838a814b288a137</td>\n",
       "      <td>360.4</td>\n",
       "      <td>1</td>\n",
       "      <td>html5</td>\n",
       "    </tr>\n",
       "    <tr>\n",
       "      <th>90</th>\n",
       "      <td>5212fc7438ea46de83f619f08ac05598</td>\n",
       "      <td>19e009c2a9cc49b69faae5eeea6d2a06</td>\n",
       "      <td>240.4</td>\n",
       "      <td>1</td>\n",
       "      <td>html5</td>\n",
       "    </tr>\n",
       "  </tbody>\n",
       "</table>\n",
       "<p>91 rows × 5 columns</p>\n",
       "</div>"
      ],
      "text/plain": [
       "                          Channel_id                        Content_id  \\\n",
       "0   f624baf0c6064d2287d61b15ba144d3d  f79e57fcc2ab4529ae200213689e395f   \n",
       "1   f624baf0c6064d2287d61b15ba144d3d  ba6fa715c5e654ed8f8f026788c4d2fa   \n",
       "2   f624baf0c6064d2287d61b15ba144d3d  cebe3d81c81e56feb64d699f3da03418   \n",
       "3   f624baf0c6064d2287d61b15ba144d3d  b6c0267716aa5123b0645315a10d2e33   \n",
       "4   f624baf0c6064d2287d61b15ba144d3d  deae9a59c3875d6ba38d274eecb25b3f   \n",
       "..                               ...                               ...   \n",
       "86  5212fc7438ea46de83f619f08ac05598  cb37c93c38004e06a14335788b6374ec   \n",
       "87  5212fc7438ea46de83f619f08ac05598  675f29d8d70a47e88d6805042a935023   \n",
       "88  5212fc7438ea46de83f619f08ac05598  cd9a5d9a84e14273961cb0579643ceb4   \n",
       "89  696c75647fb04235be2e2c8549cf5a90  a696bfc558a04971b838a814b288a137   \n",
       "90  5212fc7438ea46de83f619f08ac05598  19e009c2a9cc49b69faae5eeea6d2a06   \n",
       "\n",
       "    Time_Spent  Progress Content_kind  \n",
       "0        120.1         0        html5  \n",
       "1       2323.5         1        html5  \n",
       "2         55.1         0        html5  \n",
       "3        340.3         1        html5  \n",
       "4        825.1         1        html5  \n",
       "..         ...       ...          ...  \n",
       "86        10.0         0        html5  \n",
       "87       618.9         1        html5  \n",
       "88       440.8         1        html5  \n",
       "89       360.4         1        html5  \n",
       "90       240.4         1        html5  \n",
       "\n",
       "[91 rows x 5 columns]"
      ]
     },
     "execution_count": 7,
     "metadata": {},
     "output_type": "execute_result"
    }
   ],
   "source": [
    "# New data\n",
    "\n",
    "channel2_drop"
   ]
  },
  {
   "cell_type": "code",
   "execution_count": 8,
   "id": "95781288",
   "metadata": {},
   "outputs": [
    {
     "name": "stdout",
     "output_type": "stream",
     "text": [
      "Channel_id :  4 label\n",
      "Content_id :  91 label\n",
      "Time_Spent :  76 label\n",
      "Progress :  2 label\n",
      "Content_kind :  4 label\n"
     ]
    }
   ],
   "source": [
    " for col in channel2_drop.columns[0:]:\n",
    "        print(col, ': ', len(channel2_drop[col].unique()), 'label')"
   ]
  },
  {
   "cell_type": "code",
   "execution_count": 9,
   "id": "4babef7c",
   "metadata": {},
   "outputs": [
    {
     "data": {
      "text/plain": [
       "{'f79e57fcc2ab4529ae200213689e395f': 1,\n",
       " '8ce9da30ad2b4ba589e6981bcd3309df': 1,\n",
       " 'fed525dad8424211a6436f1cea7dc3b0': 1,\n",
       " '41c3e7fbe4ef438f84534cfe9b8369a3': 1,\n",
       " '0ab596b3f1574b3ba9d12aeaffc865b6': 1,\n",
       " '95081b56ad1640248f8acaca192afe09': 1,\n",
       " 'bd76a4ac79db4b98a288098f87b6e918': 1,\n",
       " '6dff9d9032e54ad9bd144098a1dd44b7': 1,\n",
       " 'f858a1dd73f44ba79db96fba7dd728c5': 1,\n",
       " '922ba6a6087f4a11820c89c3c8478b38': 1,\n",
       " '49e5b791968c45e0936ebc6793e63bc8': 1,\n",
       " '5481ac4ac60e43de8cc106a4b119cdcf': 1,\n",
       " '24ed6b585c22405e973a4a7c15f41dfa': 1,\n",
       " '93af34e3a56349d78c99afb0eb7bef53': 1,\n",
       " '11f68e283d4b40138748ff54c264b791': 1,\n",
       " '0652501b718841afaded195027bdaf4c': 1,\n",
       " '0d5fb3b665724fec9f05bb68415d3a6b': 1,\n",
       " '4e7fb4af36204ccdae06d1af5c1b48d8': 1,\n",
       " '22a551c4f2044c87abcbb72e6c30c220': 1,\n",
       " '6590e291fa134a108871c890b8190362': 1,\n",
       " 'c0c2d4d7084a4c6c9441a07beb2c2f48': 1,\n",
       " 'a467e8db4e374a0395789ae2b8a28161': 1,\n",
       " '75eeb39177df4b559c09f3e087df7743': 1,\n",
       " '674767bfa6434037a5f551212d241785': 1,\n",
       " '5eb48c8d895a4583988e3b0e7b1b6a46': 1,\n",
       " 'a696bfc558a04971b838a814b288a137': 1,\n",
       " 'cd9a5d9a84e14273961cb0579643ceb4': 1,\n",
       " '675f29d8d70a47e88d6805042a935023': 1,\n",
       " 'cb37c93c38004e06a14335788b6374ec': 1,\n",
       " 'c5960d626614444480a3f2f4dfb92bfc': 1,\n",
       " 'f6744ec20f52400096817fd1821e9237': 1,\n",
       " '5d1e4f62d7f744a1a7eb9b8d6a0ba204': 1,\n",
       " '09603240c2d74c69a3de9ba521bd933f': 1,\n",
       " '0d134ef4fe2b41bf8dc0127df35bfff6': 1,\n",
       " '41de5e4517cb4a94b5f9ee6af4954bd7': 1,\n",
       " '58c4601a016c49a18cd3c1e3a8c559a3': 1,\n",
       " '41a56244fe744e2daea1da6534e6963d': 1,\n",
       " 'a1e18838939c47cfa3140689b0c9f9bc': 1,\n",
       " 'fb56aa90885c43bab87c98e88ec151e0': 1,\n",
       " 'efade163e6294442827a3c96f0664c1c': 1,\n",
       " '2c10c80383c04ee7bd103b938b65a83c': 1,\n",
       " 'ee7a221eeefb44c6b7407d4e8bbe03d8': 1,\n",
       " '50cb5279d44c410ca5581c4f6e5d0972': 1,\n",
       " '1c78e0e1cba54d56bb5c8c942c910751': 1,\n",
       " 'a5e1ce71d85a4da3a81dd241a861bea7': 1,\n",
       " '55af9ceaaf2647a58cb356920ca3a07d': 1,\n",
       " 'ba6fa715c5e654ed8f8f026788c4d2fa': 1,\n",
       " 'bc5a6f3341484c0892124248094e3b13': 1,\n",
       " 'c53a58c48dfa4bf1a657472097d14121': 1,\n",
       " 'e67bfce8a4964c0096cc628a37d9594e': 1,\n",
       " '94417ded2dbc43969cac28cb79cb0503': 1,\n",
       " 'f2a3b24a5e8d577a9a61ab5443bd69d7': 1,\n",
       " '32ee42c024685622a0ea0126ffa55e7f': 1,\n",
       " 'b2ec8b04a76451c08984182d699a58fe': 1,\n",
       " '5e9680aeaefa5f628bc4d10b61fe02a7': 1,\n",
       " '228d21460ca1495aba5b1516f0a57711': 1,\n",
       " '38e842537351479593357864a9ef8a8b': 1,\n",
       " '95571815eb9e4d218d5f982bec1f0c6e': 1,\n",
       " 'e2fb32b794dd43999a8fa91d6cb39502': 1,\n",
       " '259414b6b95a4c35a0962103159c5f3c': 1,\n",
       " 'e8ae50aa59b84ed4bfe5783cb8aba975': 1,\n",
       " 'c18ca69abe2545cdb01edb2e957cbcc0': 1,\n",
       " '4f475e5d63b959c98e09404ed728c944': 1,\n",
       " 'f57f4c4136bd5c7eb945f2aea6a274f5': 1,\n",
       " 'deae9a59c3875d6ba38d274eecb25b3f': 1,\n",
       " 'b6c0267716aa5123b0645315a10d2e33': 1,\n",
       " 'cebe3d81c81e56feb64d699f3da03418': 1,\n",
       " '10b06296a962411096ed3eb651dcc266': 1,\n",
       " '5548a66988584ec1b1a4773f08d6ee0e': 1,\n",
       " '9350e817eee047c8b6d3fea0e3ad5afe': 1,\n",
       " '7f03a7a88a7043e0a12b2a3f4280e4c1': 1,\n",
       " '2d0f100c57e64ee1828ef32ef6728b76': 1,\n",
       " '1a872b9da5dd48d7aabf389ff5cf06e1': 1,\n",
       " '8cbf74276da4453f99f4ca368a296e41': 1,\n",
       " '3c4abd3d2c4b4fe39af53d9c7d3d867e': 1,\n",
       " '811e1a5bfaa7500fb8acc6c028b346c4': 1,\n",
       " '77abf1b3680f41cc9efc95cffc76faa7': 1,\n",
       " 'f40ebd7330bb4df684a09faa6068cf1f': 1,\n",
       " 'c5e4324ec9584ee09a1ee5f3da5019a2': 1,\n",
       " 'c273921fb0484701b78191b06c55cd5e': 1,\n",
       " 'aeb7cfee84e1410ca8ba308800700a24': 1,\n",
       " '2105226916ee5be4bdba3e21e856e8b9': 1,\n",
       " '2640cb0bcf5f437e836b6fc9d081804c': 1,\n",
       " '2e39cdc1f06640dea933761034e7dc4a': 1,\n",
       " 'f412da6370064f4481f933bf31cc29e9': 1,\n",
       " '9cb0cd99160a4e959160ef8302194023': 1,\n",
       " '75727f01ee144c099b4a104e4d7fe150': 1,\n",
       " '53aed529460643fb9fc8bc6c91da5949': 1,\n",
       " '78d5c5717f02432f8622a01d1b257710': 1,\n",
       " '308323df206443d1ac37966de68c1586': 1,\n",
       " '19e009c2a9cc49b69faae5eeea6d2a06': 1}"
      ]
     },
     "execution_count": 9,
     "metadata": {},
     "output_type": "execute_result"
    }
   ],
   "source": [
    "channel2_drop.Content_id.value_counts().to_dict()"
   ]
  },
  {
   "cell_type": "code",
   "execution_count": 10,
   "id": "d9e4dc66",
   "metadata": {},
   "outputs": [
    {
     "data": {
      "text/plain": [
       "{'f79e57fcc2ab4529ae200213689e395f': 1,\n",
       " '8ce9da30ad2b4ba589e6981bcd3309df': 1,\n",
       " 'fed525dad8424211a6436f1cea7dc3b0': 1,\n",
       " '41c3e7fbe4ef438f84534cfe9b8369a3': 1,\n",
       " '0ab596b3f1574b3ba9d12aeaffc865b6': 1,\n",
       " '95081b56ad1640248f8acaca192afe09': 1,\n",
       " 'bd76a4ac79db4b98a288098f87b6e918': 1,\n",
       " '6dff9d9032e54ad9bd144098a1dd44b7': 1,\n",
       " 'f858a1dd73f44ba79db96fba7dd728c5': 1,\n",
       " '922ba6a6087f4a11820c89c3c8478b38': 1,\n",
       " '49e5b791968c45e0936ebc6793e63bc8': 1,\n",
       " '5481ac4ac60e43de8cc106a4b119cdcf': 1,\n",
       " '24ed6b585c22405e973a4a7c15f41dfa': 1,\n",
       " '93af34e3a56349d78c99afb0eb7bef53': 1,\n",
       " '11f68e283d4b40138748ff54c264b791': 1,\n",
       " '0652501b718841afaded195027bdaf4c': 1,\n",
       " '0d5fb3b665724fec9f05bb68415d3a6b': 1,\n",
       " '4e7fb4af36204ccdae06d1af5c1b48d8': 1,\n",
       " '22a551c4f2044c87abcbb72e6c30c220': 1,\n",
       " '6590e291fa134a108871c890b8190362': 1,\n",
       " 'c0c2d4d7084a4c6c9441a07beb2c2f48': 1,\n",
       " 'a467e8db4e374a0395789ae2b8a28161': 1,\n",
       " '75eeb39177df4b559c09f3e087df7743': 1,\n",
       " '674767bfa6434037a5f551212d241785': 1,\n",
       " '5eb48c8d895a4583988e3b0e7b1b6a46': 1,\n",
       " 'a696bfc558a04971b838a814b288a137': 1,\n",
       " 'cd9a5d9a84e14273961cb0579643ceb4': 1,\n",
       " '675f29d8d70a47e88d6805042a935023': 1,\n",
       " 'cb37c93c38004e06a14335788b6374ec': 1,\n",
       " 'c5960d626614444480a3f2f4dfb92bfc': 1,\n",
       " 'f6744ec20f52400096817fd1821e9237': 1,\n",
       " '5d1e4f62d7f744a1a7eb9b8d6a0ba204': 1,\n",
       " '09603240c2d74c69a3de9ba521bd933f': 1,\n",
       " '0d134ef4fe2b41bf8dc0127df35bfff6': 1,\n",
       " '41de5e4517cb4a94b5f9ee6af4954bd7': 1,\n",
       " '58c4601a016c49a18cd3c1e3a8c559a3': 1,\n",
       " '41a56244fe744e2daea1da6534e6963d': 1,\n",
       " 'a1e18838939c47cfa3140689b0c9f9bc': 1,\n",
       " 'fb56aa90885c43bab87c98e88ec151e0': 1,\n",
       " 'efade163e6294442827a3c96f0664c1c': 1,\n",
       " '2c10c80383c04ee7bd103b938b65a83c': 1,\n",
       " 'ee7a221eeefb44c6b7407d4e8bbe03d8': 1,\n",
       " '50cb5279d44c410ca5581c4f6e5d0972': 1,\n",
       " '1c78e0e1cba54d56bb5c8c942c910751': 1,\n",
       " 'a5e1ce71d85a4da3a81dd241a861bea7': 1,\n",
       " '55af9ceaaf2647a58cb356920ca3a07d': 1,\n",
       " 'ba6fa715c5e654ed8f8f026788c4d2fa': 1,\n",
       " 'bc5a6f3341484c0892124248094e3b13': 1,\n",
       " 'c53a58c48dfa4bf1a657472097d14121': 1,\n",
       " 'e67bfce8a4964c0096cc628a37d9594e': 1,\n",
       " '94417ded2dbc43969cac28cb79cb0503': 1,\n",
       " 'f2a3b24a5e8d577a9a61ab5443bd69d7': 1,\n",
       " '32ee42c024685622a0ea0126ffa55e7f': 1,\n",
       " 'b2ec8b04a76451c08984182d699a58fe': 1,\n",
       " '5e9680aeaefa5f628bc4d10b61fe02a7': 1,\n",
       " '228d21460ca1495aba5b1516f0a57711': 1,\n",
       " '38e842537351479593357864a9ef8a8b': 1,\n",
       " '95571815eb9e4d218d5f982bec1f0c6e': 1,\n",
       " 'e2fb32b794dd43999a8fa91d6cb39502': 1,\n",
       " '259414b6b95a4c35a0962103159c5f3c': 1,\n",
       " 'e8ae50aa59b84ed4bfe5783cb8aba975': 1,\n",
       " 'c18ca69abe2545cdb01edb2e957cbcc0': 1,\n",
       " '4f475e5d63b959c98e09404ed728c944': 1,\n",
       " 'f57f4c4136bd5c7eb945f2aea6a274f5': 1,\n",
       " 'deae9a59c3875d6ba38d274eecb25b3f': 1,\n",
       " 'b6c0267716aa5123b0645315a10d2e33': 1,\n",
       " 'cebe3d81c81e56feb64d699f3da03418': 1,\n",
       " '10b06296a962411096ed3eb651dcc266': 1,\n",
       " '5548a66988584ec1b1a4773f08d6ee0e': 1,\n",
       " '9350e817eee047c8b6d3fea0e3ad5afe': 1,\n",
       " '7f03a7a88a7043e0a12b2a3f4280e4c1': 1,\n",
       " '2d0f100c57e64ee1828ef32ef6728b76': 1,\n",
       " '1a872b9da5dd48d7aabf389ff5cf06e1': 1,\n",
       " '8cbf74276da4453f99f4ca368a296e41': 1,\n",
       " '3c4abd3d2c4b4fe39af53d9c7d3d867e': 1,\n",
       " '811e1a5bfaa7500fb8acc6c028b346c4': 1,\n",
       " '77abf1b3680f41cc9efc95cffc76faa7': 1,\n",
       " 'f40ebd7330bb4df684a09faa6068cf1f': 1,\n",
       " 'c5e4324ec9584ee09a1ee5f3da5019a2': 1,\n",
       " 'c273921fb0484701b78191b06c55cd5e': 1,\n",
       " 'aeb7cfee84e1410ca8ba308800700a24': 1,\n",
       " '2105226916ee5be4bdba3e21e856e8b9': 1,\n",
       " '2640cb0bcf5f437e836b6fc9d081804c': 1,\n",
       " '2e39cdc1f06640dea933761034e7dc4a': 1,\n",
       " 'f412da6370064f4481f933bf31cc29e9': 1,\n",
       " '9cb0cd99160a4e959160ef8302194023': 1,\n",
       " '75727f01ee144c099b4a104e4d7fe150': 1,\n",
       " '53aed529460643fb9fc8bc6c91da5949': 1,\n",
       " '78d5c5717f02432f8622a01d1b257710': 1,\n",
       " '308323df206443d1ac37966de68c1586': 1,\n",
       " '19e009c2a9cc49b69faae5eeea6d2a06': 1}"
      ]
     },
     "execution_count": 10,
     "metadata": {},
     "output_type": "execute_result"
    }
   ],
   "source": [
    "# Number of content_id\n",
    "\n",
    "channel_frequency_map = channel2_drop.Content_id.value_counts().to_dict()\n",
    "channel_frequency_map"
   ]
  },
  {
   "cell_type": "code",
   "execution_count": 11,
   "id": "5cd12676",
   "metadata": {},
   "outputs": [
    {
     "data": {
      "text/html": [
       "<div>\n",
       "<style scoped>\n",
       "    .dataframe tbody tr th:only-of-type {\n",
       "        vertical-align: middle;\n",
       "    }\n",
       "\n",
       "    .dataframe tbody tr th {\n",
       "        vertical-align: top;\n",
       "    }\n",
       "\n",
       "    .dataframe thead th {\n",
       "        text-align: right;\n",
       "    }\n",
       "</style>\n",
       "<table border=\"1\" class=\"dataframe\">\n",
       "  <thead>\n",
       "    <tr style=\"text-align: right;\">\n",
       "      <th></th>\n",
       "      <th>Channel_id</th>\n",
       "      <th>Content_id</th>\n",
       "      <th>Time_Spent</th>\n",
       "      <th>Progress</th>\n",
       "      <th>Content_kind</th>\n",
       "    </tr>\n",
       "  </thead>\n",
       "  <tbody>\n",
       "    <tr>\n",
       "      <th>86</th>\n",
       "      <td>5212fc7438ea46de83f619f08ac05598</td>\n",
       "      <td>1</td>\n",
       "      <td>10.0</td>\n",
       "      <td>0</td>\n",
       "      <td>html5</td>\n",
       "    </tr>\n",
       "    <tr>\n",
       "      <th>87</th>\n",
       "      <td>5212fc7438ea46de83f619f08ac05598</td>\n",
       "      <td>1</td>\n",
       "      <td>618.9</td>\n",
       "      <td>1</td>\n",
       "      <td>html5</td>\n",
       "    </tr>\n",
       "    <tr>\n",
       "      <th>88</th>\n",
       "      <td>5212fc7438ea46de83f619f08ac05598</td>\n",
       "      <td>1</td>\n",
       "      <td>440.8</td>\n",
       "      <td>1</td>\n",
       "      <td>html5</td>\n",
       "    </tr>\n",
       "    <tr>\n",
       "      <th>89</th>\n",
       "      <td>696c75647fb04235be2e2c8549cf5a90</td>\n",
       "      <td>1</td>\n",
       "      <td>360.4</td>\n",
       "      <td>1</td>\n",
       "      <td>html5</td>\n",
       "    </tr>\n",
       "    <tr>\n",
       "      <th>90</th>\n",
       "      <td>5212fc7438ea46de83f619f08ac05598</td>\n",
       "      <td>1</td>\n",
       "      <td>240.4</td>\n",
       "      <td>1</td>\n",
       "      <td>html5</td>\n",
       "    </tr>\n",
       "  </tbody>\n",
       "</table>\n",
       "</div>"
      ],
      "text/plain": [
       "                          Channel_id  Content_id  Time_Spent  Progress  \\\n",
       "86  5212fc7438ea46de83f619f08ac05598           1        10.0         0   \n",
       "87  5212fc7438ea46de83f619f08ac05598           1       618.9         1   \n",
       "88  5212fc7438ea46de83f619f08ac05598           1       440.8         1   \n",
       "89  696c75647fb04235be2e2c8549cf5a90           1       360.4         1   \n",
       "90  5212fc7438ea46de83f619f08ac05598           1       240.4         1   \n",
       "\n",
       "   Content_kind  \n",
       "86        html5  \n",
       "87        html5  \n",
       "88        html5  \n",
       "89        html5  \n",
       "90        html5  "
      ]
     },
     "execution_count": 11,
     "metadata": {},
     "output_type": "execute_result"
    }
   ],
   "source": [
    "channel2_drop.Content_id = channel2_drop.Content_id.map(channel_frequency_map)\n",
    "\n",
    "channel2_drop.tail()"
   ]
  },
  {
   "cell_type": "code",
   "execution_count": 12,
   "id": "6c44f4d6",
   "metadata": {},
   "outputs": [
    {
     "data": {
      "text/plain": [
       "{'5212fc7438ea46de83f619f08ac05598': 46,\n",
       " 'f624baf0c6064d2287d61b15ba144d3d': 39,\n",
       " '40348202e6244d148d999a4a9b4d680b': 3,\n",
       " '696c75647fb04235be2e2c8549cf5a90': 3}"
      ]
     },
     "execution_count": 12,
     "metadata": {},
     "output_type": "execute_result"
    }
   ],
   "source": [
    "channel2_drop.Channel_id.value_counts().to_dict()"
   ]
  },
  {
   "cell_type": "code",
   "execution_count": 13,
   "id": "842e85b6",
   "metadata": {},
   "outputs": [
    {
     "data": {
      "text/plain": [
       "{'html5': 81, 'exercise': 5, 'video': 4, 'document': 1}"
      ]
     },
     "execution_count": 13,
     "metadata": {},
     "output_type": "execute_result"
    }
   ],
   "source": [
    "channel2_drop.Content_kind.value_counts().to_dict()"
   ]
  },
  {
   "cell_type": "code",
   "execution_count": 14,
   "id": "7bd06e14",
   "metadata": {},
   "outputs": [
    {
     "data": {
      "text/plain": [
       "Channel_id       object\n",
       "Content_id        int64\n",
       "Time_Spent      float64\n",
       "Progress          int64\n",
       "Content_kind     object\n",
       "dtype: object"
      ]
     },
     "execution_count": 14,
     "metadata": {},
     "output_type": "execute_result"
    }
   ],
   "source": [
    "channel2_drop.dtypes"
   ]
  },
  {
   "cell_type": "markdown",
   "id": "ca5ef54e",
   "metadata": {},
   "source": [
    "# One Hot Encoding"
   ]
  },
  {
   "cell_type": "code",
   "execution_count": 15,
   "id": "2ec67a34",
   "metadata": {},
   "outputs": [],
   "source": [
    "from sklearn.preprocessing import OneHotEncoder\n",
    "from sklearn.impute import SimpleImputer\n"
   ]
  },
  {
   "cell_type": "markdown",
   "id": "c0175585",
   "metadata": {},
   "source": [
    "# Transformation"
   ]
  },
  {
   "cell_type": "code",
   "execution_count": 16,
   "id": "9cbac7dc",
   "metadata": {},
   "outputs": [],
   "source": [
    "ohe4 = OneHotEncoder(sparse= False, handle_unknown='ignore')"
   ]
  },
  {
   "cell_type": "code",
   "execution_count": 17,
   "id": "bd3ec5ba",
   "metadata": {},
   "outputs": [
    {
     "data": {
      "text/plain": [
       "array([[0., 0., 0., 1., 1., 0., 0., 1., 0.],\n",
       "       [0., 0., 0., 1., 1., 0., 0., 1., 0.],\n",
       "       [0., 0., 0., 1., 1., 0., 0., 1., 0.],\n",
       "       [0., 0., 0., 1., 1., 0., 0., 1., 0.],\n",
       "       [0., 0., 0., 1., 1., 0., 0., 1., 0.],\n",
       "       [0., 0., 0., 1., 1., 0., 0., 1., 0.],\n",
       "       [0., 0., 0., 1., 1., 0., 0., 0., 1.],\n",
       "       [0., 0., 0., 1., 1., 0., 0., 1., 0.],\n",
       "       [0., 0., 0., 1., 1., 0., 0., 1., 0.],\n",
       "       [0., 0., 0., 1., 1., 0., 0., 1., 0.],\n",
       "       [0., 0., 0., 1., 1., 0., 0., 1., 0.],\n",
       "       [0., 0., 0., 1., 1., 0., 1., 0., 0.],\n",
       "       [0., 0., 0., 1., 1., 0., 0., 1., 0.],\n",
       "       [0., 0., 0., 1., 1., 0., 0., 1., 0.],\n",
       "       [0., 0., 0., 1., 1., 0., 0., 0., 1.],\n",
       "       [0., 0., 0., 1., 1., 0., 0., 0., 1.],\n",
       "       [0., 0., 0., 1., 1., 0., 0., 1., 0.],\n",
       "       [0., 0., 0., 1., 1., 0., 1., 0., 0.],\n",
       "       [0., 0., 0., 1., 1., 0., 0., 1., 0.],\n",
       "       [0., 0., 0., 1., 1., 0., 0., 1., 0.],\n",
       "       [0., 0., 0., 1., 1., 0., 0., 1., 0.],\n",
       "       [0., 0., 0., 1., 1., 0., 0., 1., 0.],\n",
       "       [0., 0., 0., 1., 1., 0., 0., 1., 0.],\n",
       "       [0., 0., 0., 1., 1., 0., 0., 1., 0.],\n",
       "       [0., 0., 0., 1., 1., 0., 0., 1., 0.],\n",
       "       [0., 0., 0., 1., 1., 0., 0., 1., 0.],\n",
       "       [0., 0., 0., 1., 1., 0., 0., 1., 0.],\n",
       "       [0., 0., 0., 1., 1., 0., 0., 1., 0.],\n",
       "       [0., 0., 0., 1., 1., 0., 0., 1., 0.],\n",
       "       [1., 0., 0., 0., 1., 0., 0., 1., 0.],\n",
       "       [0., 0., 0., 1., 1., 0., 0., 1., 0.],\n",
       "       [0., 0., 0., 1., 1., 0., 0., 1., 0.],\n",
       "       [0., 0., 0., 1., 1., 0., 0., 1., 0.],\n",
       "       [0., 0., 0., 1., 1., 0., 0., 0., 1.],\n",
       "       [0., 0., 0., 1., 1., 0., 1., 0., 0.],\n",
       "       [0., 0., 0., 1., 1., 0., 1., 0., 0.],\n",
       "       [0., 0., 0., 1., 1., 0., 0., 1., 0.],\n",
       "       [0., 0., 0., 1., 1., 0., 1., 0., 0.],\n",
       "       [0., 0., 0., 1., 1., 0., 0., 1., 0.],\n",
       "       [0., 0., 0., 1., 1., 1., 0., 0., 0.],\n",
       "       [1., 0., 0., 0., 1., 0., 0., 1., 0.],\n",
       "       [1., 0., 0., 0., 1., 0., 0., 1., 0.],\n",
       "       [0., 0., 1., 0., 1., 0., 0., 1., 0.],\n",
       "       [0., 0., 1., 0., 1., 0., 0., 1., 0.],\n",
       "       [0., 1., 0., 0., 1., 0., 0., 1., 0.],\n",
       "       [0., 1., 0., 0., 1., 0., 0., 1., 0.],\n",
       "       [0., 1., 0., 0., 1., 0., 0., 1., 0.],\n",
       "       [0., 1., 0., 0., 1., 0., 0., 1., 0.],\n",
       "       [0., 1., 0., 0., 1., 0., 0., 1., 0.],\n",
       "       [0., 1., 0., 0., 1., 0., 0., 1., 0.],\n",
       "       [0., 1., 0., 0., 1., 0., 0., 1., 0.],\n",
       "       [0., 1., 0., 0., 1., 0., 0., 1., 0.],\n",
       "       [0., 1., 0., 0., 1., 0., 0., 1., 0.],\n",
       "       [0., 1., 0., 0., 1., 0., 0., 1., 0.],\n",
       "       [0., 1., 0., 0., 1., 0., 0., 1., 0.],\n",
       "       [0., 1., 0., 0., 1., 0., 0., 1., 0.],\n",
       "       [0., 1., 0., 0., 1., 0., 0., 1., 0.],\n",
       "       [0., 1., 0., 0., 1., 0., 0., 1., 0.],\n",
       "       [0., 1., 0., 0., 1., 0., 0., 1., 0.],\n",
       "       [0., 1., 0., 0., 1., 0., 0., 1., 0.],\n",
       "       [0., 1., 0., 0., 1., 0., 0., 1., 0.],\n",
       "       [0., 1., 0., 0., 1., 0., 0., 1., 0.],\n",
       "       [0., 1., 0., 0., 1., 0., 0., 1., 0.],\n",
       "       [0., 1., 0., 0., 1., 0., 0., 1., 0.],\n",
       "       [0., 1., 0., 0., 1., 0., 0., 1., 0.],\n",
       "       [0., 1., 0., 0., 1., 0., 0., 1., 0.],\n",
       "       [0., 1., 0., 0., 1., 0., 0., 1., 0.],\n",
       "       [0., 1., 0., 0., 1., 0., 0., 1., 0.],\n",
       "       [0., 1., 0., 0., 1., 0., 0., 1., 0.],\n",
       "       [0., 1., 0., 0., 1., 0., 0., 1., 0.],\n",
       "       [0., 1., 0., 0., 1., 0., 0., 1., 0.],\n",
       "       [0., 1., 0., 0., 1., 0., 0., 1., 0.],\n",
       "       [0., 1., 0., 0., 1., 0., 0., 1., 0.],\n",
       "       [0., 1., 0., 0., 1., 0., 0., 1., 0.],\n",
       "       [0., 1., 0., 0., 1., 0., 0., 1., 0.],\n",
       "       [0., 1., 0., 0., 1., 0., 0., 1., 0.],\n",
       "       [0., 1., 0., 0., 1., 0., 0., 1., 0.],\n",
       "       [0., 1., 0., 0., 1., 0., 0., 1., 0.],\n",
       "       [0., 1., 0., 0., 1., 0., 0., 1., 0.],\n",
       "       [0., 1., 0., 0., 1., 0., 0., 1., 0.],\n",
       "       [0., 1., 0., 0., 1., 0., 0., 1., 0.],\n",
       "       [0., 1., 0., 0., 1., 0., 0., 1., 0.],\n",
       "       [0., 1., 0., 0., 1., 0., 0., 1., 0.],\n",
       "       [0., 1., 0., 0., 1., 0., 0., 1., 0.],\n",
       "       [0., 1., 0., 0., 1., 0., 0., 1., 0.],\n",
       "       [0., 1., 0., 0., 1., 0., 0., 1., 0.],\n",
       "       [0., 1., 0., 0., 1., 0., 0., 1., 0.],\n",
       "       [0., 1., 0., 0., 1., 0., 0., 1., 0.],\n",
       "       [0., 1., 0., 0., 1., 0., 0., 1., 0.],\n",
       "       [0., 0., 1., 0., 1., 0., 0., 1., 0.],\n",
       "       [0., 1., 0., 0., 1., 0., 0., 1., 0.]])"
      ]
     },
     "execution_count": 17,
     "metadata": {},
     "output_type": "execute_result"
    }
   ],
   "source": [
    " ohe4.fit_transform(channel2_drop[['Channel_id','Content_id','Content_kind']])"
   ]
  },
  {
   "cell_type": "code",
   "execution_count": 18,
   "id": "642884fc",
   "metadata": {},
   "outputs": [
    {
     "data": {
      "text/plain": [
       "[array(['40348202e6244d148d999a4a9b4d680b',\n",
       "        '5212fc7438ea46de83f619f08ac05598',\n",
       "        '696c75647fb04235be2e2c8549cf5a90',\n",
       "        'f624baf0c6064d2287d61b15ba144d3d'], dtype=object),\n",
       " array([1], dtype=int64),\n",
       " array(['document', 'exercise', 'html5', 'video'], dtype=object)]"
      ]
     },
     "execution_count": 18,
     "metadata": {},
     "output_type": "execute_result"
    }
   ],
   "source": [
    "ohe4.categories_"
   ]
  },
  {
   "cell_type": "code",
   "execution_count": 19,
   "id": "0720651c",
   "metadata": {},
   "outputs": [],
   "source": [
    "x = channel2_drop.loc[:, ['Channel_id','Content_id', 'Content_kind', 'Time_Spent']]\n",
    "y = channel2_drop.Progress\n"
   ]
  },
  {
   "cell_type": "code",
   "execution_count": 20,
   "id": "2357a42c",
   "metadata": {},
   "outputs": [],
   "source": [
    "from sklearn.compose import make_column_transformer"
   ]
  },
  {
   "cell_type": "code",
   "execution_count": 21,
   "id": "2e07adde",
   "metadata": {},
   "outputs": [],
   "source": [
    "column_trans4 = make_column_transformer((\n",
    "OneHotEncoder(), ['Content_id']))"
   ]
  },
  {
   "cell_type": "code",
   "execution_count": 22,
   "id": "5af04452",
   "metadata": {},
   "outputs": [
    {
     "data": {
      "text/plain": [
       "array([[1.],\n",
       "       [1.],\n",
       "       [1.],\n",
       "       [1.],\n",
       "       [1.],\n",
       "       [1.],\n",
       "       [1.],\n",
       "       [1.],\n",
       "       [1.],\n",
       "       [1.],\n",
       "       [1.],\n",
       "       [1.],\n",
       "       [1.],\n",
       "       [1.],\n",
       "       [1.],\n",
       "       [1.],\n",
       "       [1.],\n",
       "       [1.],\n",
       "       [1.],\n",
       "       [1.],\n",
       "       [1.],\n",
       "       [1.],\n",
       "       [1.],\n",
       "       [1.],\n",
       "       [1.],\n",
       "       [1.],\n",
       "       [1.],\n",
       "       [1.],\n",
       "       [1.],\n",
       "       [1.],\n",
       "       [1.],\n",
       "       [1.],\n",
       "       [1.],\n",
       "       [1.],\n",
       "       [1.],\n",
       "       [1.],\n",
       "       [1.],\n",
       "       [1.],\n",
       "       [1.],\n",
       "       [1.],\n",
       "       [1.],\n",
       "       [1.],\n",
       "       [1.],\n",
       "       [1.],\n",
       "       [1.],\n",
       "       [1.],\n",
       "       [1.],\n",
       "       [1.],\n",
       "       [1.],\n",
       "       [1.],\n",
       "       [1.],\n",
       "       [1.],\n",
       "       [1.],\n",
       "       [1.],\n",
       "       [1.],\n",
       "       [1.],\n",
       "       [1.],\n",
       "       [1.],\n",
       "       [1.],\n",
       "       [1.],\n",
       "       [1.],\n",
       "       [1.],\n",
       "       [1.],\n",
       "       [1.],\n",
       "       [1.],\n",
       "       [1.],\n",
       "       [1.],\n",
       "       [1.],\n",
       "       [1.],\n",
       "       [1.],\n",
       "       [1.],\n",
       "       [1.],\n",
       "       [1.],\n",
       "       [1.],\n",
       "       [1.],\n",
       "       [1.],\n",
       "       [1.],\n",
       "       [1.],\n",
       "       [1.],\n",
       "       [1.],\n",
       "       [1.],\n",
       "       [1.],\n",
       "       [1.],\n",
       "       [1.],\n",
       "       [1.],\n",
       "       [1.],\n",
       "       [1.],\n",
       "       [1.],\n",
       "       [1.],\n",
       "       [1.],\n",
       "       [1.]])"
      ]
     },
     "execution_count": 22,
     "metadata": {},
     "output_type": "execute_result"
    }
   ],
   "source": [
    "column_trans4.fit_transform(x)"
   ]
  },
  {
   "cell_type": "code",
   "execution_count": 23,
   "id": "5698cd10",
   "metadata": {},
   "outputs": [],
   "source": [
    "from sklearn.pipeline import make_pipeline\n",
    "from sklearn.linear_model import LogisticRegression\n",
    "from sklearn.preprocessing import OrdinalEncoder"
   ]
  },
  {
   "cell_type": "code",
   "execution_count": 24,
   "id": "02fcb1b5",
   "metadata": {},
   "outputs": [],
   "source": [
    "from sklearn.model_selection import cross_val_score"
   ]
  },
  {
   "cell_type": "code",
   "execution_count": 25,
   "id": "1dc8e84d",
   "metadata": {},
   "outputs": [],
   "source": [
    "log4 = LogisticRegression(solver= 'lbfgs')"
   ]
  },
  {
   "cell_type": "code",
   "execution_count": 26,
   "id": "2ab85e01",
   "metadata": {},
   "outputs": [
    {
     "data": {
      "text/html": [
       "<style>#sk-container-id-1 {color: black;background-color: white;}#sk-container-id-1 pre{padding: 0;}#sk-container-id-1 div.sk-toggleable {background-color: white;}#sk-container-id-1 label.sk-toggleable__label {cursor: pointer;display: block;width: 100%;margin-bottom: 0;padding: 0.3em;box-sizing: border-box;text-align: center;}#sk-container-id-1 label.sk-toggleable__label-arrow:before {content: \"▸\";float: left;margin-right: 0.25em;color: #696969;}#sk-container-id-1 label.sk-toggleable__label-arrow:hover:before {color: black;}#sk-container-id-1 div.sk-estimator:hover label.sk-toggleable__label-arrow:before {color: black;}#sk-container-id-1 div.sk-toggleable__content {max-height: 0;max-width: 0;overflow: hidden;text-align: left;background-color: #f0f8ff;}#sk-container-id-1 div.sk-toggleable__content pre {margin: 0.2em;color: black;border-radius: 0.25em;background-color: #f0f8ff;}#sk-container-id-1 input.sk-toggleable__control:checked~div.sk-toggleable__content {max-height: 200px;max-width: 100%;overflow: auto;}#sk-container-id-1 input.sk-toggleable__control:checked~label.sk-toggleable__label-arrow:before {content: \"▾\";}#sk-container-id-1 div.sk-estimator input.sk-toggleable__control:checked~label.sk-toggleable__label {background-color: #d4ebff;}#sk-container-id-1 div.sk-label input.sk-toggleable__control:checked~label.sk-toggleable__label {background-color: #d4ebff;}#sk-container-id-1 input.sk-hidden--visually {border: 0;clip: rect(1px 1px 1px 1px);clip: rect(1px, 1px, 1px, 1px);height: 1px;margin: -1px;overflow: hidden;padding: 0;position: absolute;width: 1px;}#sk-container-id-1 div.sk-estimator {font-family: monospace;background-color: #f0f8ff;border: 1px dotted black;border-radius: 0.25em;box-sizing: border-box;margin-bottom: 0.5em;}#sk-container-id-1 div.sk-estimator:hover {background-color: #d4ebff;}#sk-container-id-1 div.sk-parallel-item::after {content: \"\";width: 100%;border-bottom: 1px solid gray;flex-grow: 1;}#sk-container-id-1 div.sk-label:hover label.sk-toggleable__label {background-color: #d4ebff;}#sk-container-id-1 div.sk-serial::before {content: \"\";position: absolute;border-left: 1px solid gray;box-sizing: border-box;top: 0;bottom: 0;left: 50%;z-index: 0;}#sk-container-id-1 div.sk-serial {display: flex;flex-direction: column;align-items: center;background-color: white;padding-right: 0.2em;padding-left: 0.2em;position: relative;}#sk-container-id-1 div.sk-item {position: relative;z-index: 1;}#sk-container-id-1 div.sk-parallel {display: flex;align-items: stretch;justify-content: center;background-color: white;position: relative;}#sk-container-id-1 div.sk-item::before, #sk-container-id-1 div.sk-parallel-item::before {content: \"\";position: absolute;border-left: 1px solid gray;box-sizing: border-box;top: 0;bottom: 0;left: 50%;z-index: -1;}#sk-container-id-1 div.sk-parallel-item {display: flex;flex-direction: column;z-index: 1;position: relative;background-color: white;}#sk-container-id-1 div.sk-parallel-item:first-child::after {align-self: flex-end;width: 50%;}#sk-container-id-1 div.sk-parallel-item:last-child::after {align-self: flex-start;width: 50%;}#sk-container-id-1 div.sk-parallel-item:only-child::after {width: 0;}#sk-container-id-1 div.sk-dashed-wrapped {border: 1px dashed gray;margin: 0 0.4em 0.5em 0.4em;box-sizing: border-box;padding-bottom: 0.4em;background-color: white;}#sk-container-id-1 div.sk-label label {font-family: monospace;font-weight: bold;display: inline-block;line-height: 1.2em;}#sk-container-id-1 div.sk-label-container {text-align: center;}#sk-container-id-1 div.sk-container {/* jupyter's `normalize.less` sets `[hidden] { display: none; }` but bootstrap.min.css set `[hidden] { display: none !important; }` so we also need the `!important` here to be able to override the default hidden behavior on the sphinx rendered scikit-learn.org. See: https://github.com/scikit-learn/scikit-learn/issues/21755 */display: inline-block !important;position: relative;}#sk-container-id-1 div.sk-text-repr-fallback {display: none;}</style><div id=\"sk-container-id-1\" class=\"sk-top-container\"><div class=\"sk-text-repr-fallback\"><pre>Pipeline(steps=[(&#x27;columntransformer&#x27;,\n",
       "                 ColumnTransformer(transformers=[(&#x27;onehotencoder&#x27;,\n",
       "                                                  OneHotEncoder(),\n",
       "                                                  [&#x27;Content_id&#x27;])])),\n",
       "                (&#x27;logisticregression&#x27;, LogisticRegression())])</pre><b>In a Jupyter environment, please rerun this cell to show the HTML representation or trust the notebook. <br />On GitHub, the HTML representation is unable to render, please try loading this page with nbviewer.org.</b></div><div class=\"sk-container\" hidden><div class=\"sk-item sk-dashed-wrapped\"><div class=\"sk-label-container\"><div class=\"sk-label sk-toggleable\"><input class=\"sk-toggleable__control sk-hidden--visually\" id=\"sk-estimator-id-1\" type=\"checkbox\" ><label for=\"sk-estimator-id-1\" class=\"sk-toggleable__label sk-toggleable__label-arrow\">Pipeline</label><div class=\"sk-toggleable__content\"><pre>Pipeline(steps=[(&#x27;columntransformer&#x27;,\n",
       "                 ColumnTransformer(transformers=[(&#x27;onehotencoder&#x27;,\n",
       "                                                  OneHotEncoder(),\n",
       "                                                  [&#x27;Content_id&#x27;])])),\n",
       "                (&#x27;logisticregression&#x27;, LogisticRegression())])</pre></div></div></div><div class=\"sk-serial\"><div class=\"sk-item sk-dashed-wrapped\"><div class=\"sk-label-container\"><div class=\"sk-label sk-toggleable\"><input class=\"sk-toggleable__control sk-hidden--visually\" id=\"sk-estimator-id-2\" type=\"checkbox\" ><label for=\"sk-estimator-id-2\" class=\"sk-toggleable__label sk-toggleable__label-arrow\">columntransformer: ColumnTransformer</label><div class=\"sk-toggleable__content\"><pre>ColumnTransformer(transformers=[(&#x27;onehotencoder&#x27;, OneHotEncoder(),\n",
       "                                 [&#x27;Content_id&#x27;])])</pre></div></div></div><div class=\"sk-parallel\"><div class=\"sk-parallel-item\"><div class=\"sk-item\"><div class=\"sk-label-container\"><div class=\"sk-label sk-toggleable\"><input class=\"sk-toggleable__control sk-hidden--visually\" id=\"sk-estimator-id-3\" type=\"checkbox\" ><label for=\"sk-estimator-id-3\" class=\"sk-toggleable__label sk-toggleable__label-arrow\">onehotencoder</label><div class=\"sk-toggleable__content\"><pre>[&#x27;Content_id&#x27;]</pre></div></div></div><div class=\"sk-serial\"><div class=\"sk-item\"><div class=\"sk-estimator sk-toggleable\"><input class=\"sk-toggleable__control sk-hidden--visually\" id=\"sk-estimator-id-4\" type=\"checkbox\" ><label for=\"sk-estimator-id-4\" class=\"sk-toggleable__label sk-toggleable__label-arrow\">OneHotEncoder</label><div class=\"sk-toggleable__content\"><pre>OneHotEncoder()</pre></div></div></div></div></div></div></div></div><div class=\"sk-item\"><div class=\"sk-estimator sk-toggleable\"><input class=\"sk-toggleable__control sk-hidden--visually\" id=\"sk-estimator-id-5\" type=\"checkbox\" ><label for=\"sk-estimator-id-5\" class=\"sk-toggleable__label sk-toggleable__label-arrow\">LogisticRegression</label><div class=\"sk-toggleable__content\"><pre>LogisticRegression()</pre></div></div></div></div></div></div></div>"
      ],
      "text/plain": [
       "Pipeline(steps=[('columntransformer',\n",
       "                 ColumnTransformer(transformers=[('onehotencoder',\n",
       "                                                  OneHotEncoder(),\n",
       "                                                  ['Content_id'])])),\n",
       "                ('logisticregression', LogisticRegression())])"
      ]
     },
     "execution_count": 26,
     "metadata": {},
     "output_type": "execute_result"
    }
   ],
   "source": [
    "pipe4 = make_pipeline(column_trans4, log4)\n",
    "pipe4"
   ]
  },
  {
   "cell_type": "code",
   "execution_count": 27,
   "id": "ac8d9f04",
   "metadata": {},
   "outputs": [
    {
     "data": {
      "text/html": [
       "<div>\n",
       "<style scoped>\n",
       "    .dataframe tbody tr th:only-of-type {\n",
       "        vertical-align: middle;\n",
       "    }\n",
       "\n",
       "    .dataframe tbody tr th {\n",
       "        vertical-align: top;\n",
       "    }\n",
       "\n",
       "    .dataframe thead th {\n",
       "        text-align: right;\n",
       "    }\n",
       "</style>\n",
       "<table border=\"1\" class=\"dataframe\">\n",
       "  <thead>\n",
       "    <tr style=\"text-align: right;\">\n",
       "      <th></th>\n",
       "      <th>Channel_id</th>\n",
       "      <th>Content_id</th>\n",
       "      <th>Content_kind</th>\n",
       "      <th>Time_Spent</th>\n",
       "    </tr>\n",
       "  </thead>\n",
       "  <tbody>\n",
       "    <tr>\n",
       "      <th>42</th>\n",
       "      <td>696c75647fb04235be2e2c8549cf5a90</td>\n",
       "      <td>1</td>\n",
       "      <td>html5</td>\n",
       "      <td>114.7</td>\n",
       "    </tr>\n",
       "    <tr>\n",
       "      <th>53</th>\n",
       "      <td>5212fc7438ea46de83f619f08ac05598</td>\n",
       "      <td>1</td>\n",
       "      <td>html5</td>\n",
       "      <td>2181.1</td>\n",
       "    </tr>\n",
       "    <tr>\n",
       "      <th>36</th>\n",
       "      <td>f624baf0c6064d2287d61b15ba144d3d</td>\n",
       "      <td>1</td>\n",
       "      <td>html5</td>\n",
       "      <td>60.2</td>\n",
       "    </tr>\n",
       "    <tr>\n",
       "      <th>14</th>\n",
       "      <td>f624baf0c6064d2287d61b15ba144d3d</td>\n",
       "      <td>1</td>\n",
       "      <td>video</td>\n",
       "      <td>125.0</td>\n",
       "    </tr>\n",
       "    <tr>\n",
       "      <th>85</th>\n",
       "      <td>5212fc7438ea46de83f619f08ac05598</td>\n",
       "      <td>1</td>\n",
       "      <td>html5</td>\n",
       "      <td>70.0</td>\n",
       "    </tr>\n",
       "  </tbody>\n",
       "</table>\n",
       "</div>"
      ],
      "text/plain": [
       "                          Channel_id  Content_id Content_kind  Time_Spent\n",
       "42  696c75647fb04235be2e2c8549cf5a90           1        html5       114.7\n",
       "53  5212fc7438ea46de83f619f08ac05598           1        html5      2181.1\n",
       "36  f624baf0c6064d2287d61b15ba144d3d           1        html5        60.2\n",
       "14  f624baf0c6064d2287d61b15ba144d3d           1        video       125.0\n",
       "85  5212fc7438ea46de83f619f08ac05598           1        html5        70.0"
      ]
     },
     "execution_count": 27,
     "metadata": {},
     "output_type": "execute_result"
    }
   ],
   "source": [
    "x_new= x.sample(5, random_state= 99)\n",
    "x_new"
   ]
  },
  {
   "cell_type": "code",
   "execution_count": 28,
   "id": "29db7a81",
   "metadata": {
    "scrolled": true
   },
   "outputs": [
    {
     "data": {
      "text/html": [
       "<style>#sk-container-id-2 {color: black;background-color: white;}#sk-container-id-2 pre{padding: 0;}#sk-container-id-2 div.sk-toggleable {background-color: white;}#sk-container-id-2 label.sk-toggleable__label {cursor: pointer;display: block;width: 100%;margin-bottom: 0;padding: 0.3em;box-sizing: border-box;text-align: center;}#sk-container-id-2 label.sk-toggleable__label-arrow:before {content: \"▸\";float: left;margin-right: 0.25em;color: #696969;}#sk-container-id-2 label.sk-toggleable__label-arrow:hover:before {color: black;}#sk-container-id-2 div.sk-estimator:hover label.sk-toggleable__label-arrow:before {color: black;}#sk-container-id-2 div.sk-toggleable__content {max-height: 0;max-width: 0;overflow: hidden;text-align: left;background-color: #f0f8ff;}#sk-container-id-2 div.sk-toggleable__content pre {margin: 0.2em;color: black;border-radius: 0.25em;background-color: #f0f8ff;}#sk-container-id-2 input.sk-toggleable__control:checked~div.sk-toggleable__content {max-height: 200px;max-width: 100%;overflow: auto;}#sk-container-id-2 input.sk-toggleable__control:checked~label.sk-toggleable__label-arrow:before {content: \"▾\";}#sk-container-id-2 div.sk-estimator input.sk-toggleable__control:checked~label.sk-toggleable__label {background-color: #d4ebff;}#sk-container-id-2 div.sk-label input.sk-toggleable__control:checked~label.sk-toggleable__label {background-color: #d4ebff;}#sk-container-id-2 input.sk-hidden--visually {border: 0;clip: rect(1px 1px 1px 1px);clip: rect(1px, 1px, 1px, 1px);height: 1px;margin: -1px;overflow: hidden;padding: 0;position: absolute;width: 1px;}#sk-container-id-2 div.sk-estimator {font-family: monospace;background-color: #f0f8ff;border: 1px dotted black;border-radius: 0.25em;box-sizing: border-box;margin-bottom: 0.5em;}#sk-container-id-2 div.sk-estimator:hover {background-color: #d4ebff;}#sk-container-id-2 div.sk-parallel-item::after {content: \"\";width: 100%;border-bottom: 1px solid gray;flex-grow: 1;}#sk-container-id-2 div.sk-label:hover label.sk-toggleable__label {background-color: #d4ebff;}#sk-container-id-2 div.sk-serial::before {content: \"\";position: absolute;border-left: 1px solid gray;box-sizing: border-box;top: 0;bottom: 0;left: 50%;z-index: 0;}#sk-container-id-2 div.sk-serial {display: flex;flex-direction: column;align-items: center;background-color: white;padding-right: 0.2em;padding-left: 0.2em;position: relative;}#sk-container-id-2 div.sk-item {position: relative;z-index: 1;}#sk-container-id-2 div.sk-parallel {display: flex;align-items: stretch;justify-content: center;background-color: white;position: relative;}#sk-container-id-2 div.sk-item::before, #sk-container-id-2 div.sk-parallel-item::before {content: \"\";position: absolute;border-left: 1px solid gray;box-sizing: border-box;top: 0;bottom: 0;left: 50%;z-index: -1;}#sk-container-id-2 div.sk-parallel-item {display: flex;flex-direction: column;z-index: 1;position: relative;background-color: white;}#sk-container-id-2 div.sk-parallel-item:first-child::after {align-self: flex-end;width: 50%;}#sk-container-id-2 div.sk-parallel-item:last-child::after {align-self: flex-start;width: 50%;}#sk-container-id-2 div.sk-parallel-item:only-child::after {width: 0;}#sk-container-id-2 div.sk-dashed-wrapped {border: 1px dashed gray;margin: 0 0.4em 0.5em 0.4em;box-sizing: border-box;padding-bottom: 0.4em;background-color: white;}#sk-container-id-2 div.sk-label label {font-family: monospace;font-weight: bold;display: inline-block;line-height: 1.2em;}#sk-container-id-2 div.sk-label-container {text-align: center;}#sk-container-id-2 div.sk-container {/* jupyter's `normalize.less` sets `[hidden] { display: none; }` but bootstrap.min.css set `[hidden] { display: none !important; }` so we also need the `!important` here to be able to override the default hidden behavior on the sphinx rendered scikit-learn.org. See: https://github.com/scikit-learn/scikit-learn/issues/21755 */display: inline-block !important;position: relative;}#sk-container-id-2 div.sk-text-repr-fallback {display: none;}</style><div id=\"sk-container-id-2\" class=\"sk-top-container\"><div class=\"sk-text-repr-fallback\"><pre>Pipeline(steps=[(&#x27;columntransformer&#x27;,\n",
       "                 ColumnTransformer(transformers=[(&#x27;onehotencoder&#x27;,\n",
       "                                                  OneHotEncoder(),\n",
       "                                                  [&#x27;Content_id&#x27;])])),\n",
       "                (&#x27;logisticregression&#x27;, LogisticRegression())])</pre><b>In a Jupyter environment, please rerun this cell to show the HTML representation or trust the notebook. <br />On GitHub, the HTML representation is unable to render, please try loading this page with nbviewer.org.</b></div><div class=\"sk-container\" hidden><div class=\"sk-item sk-dashed-wrapped\"><div class=\"sk-label-container\"><div class=\"sk-label sk-toggleable\"><input class=\"sk-toggleable__control sk-hidden--visually\" id=\"sk-estimator-id-6\" type=\"checkbox\" ><label for=\"sk-estimator-id-6\" class=\"sk-toggleable__label sk-toggleable__label-arrow\">Pipeline</label><div class=\"sk-toggleable__content\"><pre>Pipeline(steps=[(&#x27;columntransformer&#x27;,\n",
       "                 ColumnTransformer(transformers=[(&#x27;onehotencoder&#x27;,\n",
       "                                                  OneHotEncoder(),\n",
       "                                                  [&#x27;Content_id&#x27;])])),\n",
       "                (&#x27;logisticregression&#x27;, LogisticRegression())])</pre></div></div></div><div class=\"sk-serial\"><div class=\"sk-item sk-dashed-wrapped\"><div class=\"sk-label-container\"><div class=\"sk-label sk-toggleable\"><input class=\"sk-toggleable__control sk-hidden--visually\" id=\"sk-estimator-id-7\" type=\"checkbox\" ><label for=\"sk-estimator-id-7\" class=\"sk-toggleable__label sk-toggleable__label-arrow\">columntransformer: ColumnTransformer</label><div class=\"sk-toggleable__content\"><pre>ColumnTransformer(transformers=[(&#x27;onehotencoder&#x27;, OneHotEncoder(),\n",
       "                                 [&#x27;Content_id&#x27;])])</pre></div></div></div><div class=\"sk-parallel\"><div class=\"sk-parallel-item\"><div class=\"sk-item\"><div class=\"sk-label-container\"><div class=\"sk-label sk-toggleable\"><input class=\"sk-toggleable__control sk-hidden--visually\" id=\"sk-estimator-id-8\" type=\"checkbox\" ><label for=\"sk-estimator-id-8\" class=\"sk-toggleable__label sk-toggleable__label-arrow\">onehotencoder</label><div class=\"sk-toggleable__content\"><pre>[&#x27;Content_id&#x27;]</pre></div></div></div><div class=\"sk-serial\"><div class=\"sk-item\"><div class=\"sk-estimator sk-toggleable\"><input class=\"sk-toggleable__control sk-hidden--visually\" id=\"sk-estimator-id-9\" type=\"checkbox\" ><label for=\"sk-estimator-id-9\" class=\"sk-toggleable__label sk-toggleable__label-arrow\">OneHotEncoder</label><div class=\"sk-toggleable__content\"><pre>OneHotEncoder()</pre></div></div></div></div></div></div></div></div><div class=\"sk-item\"><div class=\"sk-estimator sk-toggleable\"><input class=\"sk-toggleable__control sk-hidden--visually\" id=\"sk-estimator-id-10\" type=\"checkbox\" ><label for=\"sk-estimator-id-10\" class=\"sk-toggleable__label sk-toggleable__label-arrow\">LogisticRegression</label><div class=\"sk-toggleable__content\"><pre>LogisticRegression()</pre></div></div></div></div></div></div></div>"
      ],
      "text/plain": [
       "Pipeline(steps=[('columntransformer',\n",
       "                 ColumnTransformer(transformers=[('onehotencoder',\n",
       "                                                  OneHotEncoder(),\n",
       "                                                  ['Content_id'])])),\n",
       "                ('logisticregression', LogisticRegression())])"
      ]
     },
     "execution_count": 28,
     "metadata": {},
     "output_type": "execute_result"
    }
   ],
   "source": [
    "pipe4.fit(x,y)"
   ]
  },
  {
   "cell_type": "code",
   "execution_count": 29,
   "id": "8c5a676d",
   "metadata": {},
   "outputs": [
    {
     "data": {
      "text/plain": [
       "array([1, 1, 1, 1, 1], dtype=int64)"
      ]
     },
     "execution_count": 29,
     "metadata": {},
     "output_type": "execute_result"
    }
   ],
   "source": [
    "pipe4.predict(x_new)"
   ]
  },
  {
   "cell_type": "code",
   "execution_count": 36,
   "id": "632fbb33",
   "metadata": {},
   "outputs": [
    {
     "data": {
      "text/plain": [
       "array([0.5483871 , 0.53333333, 0.53333333])"
      ]
     },
     "execution_count": 36,
     "metadata": {},
     "output_type": "execute_result"
    }
   ],
   "source": [
    "cross_val_score(pipe4, x,y, cv = 3, scoring = 'accuracy', error_score = 'raise')"
   ]
  },
  {
   "cell_type": "code",
   "execution_count": 37,
   "id": "e7212990",
   "metadata": {},
   "outputs": [
    {
     "data": {
      "text/plain": [
       "0.5383512544802866"
      ]
     },
     "execution_count": 37,
     "metadata": {},
     "output_type": "execute_result"
    }
   ],
   "source": [
    "cross_val_score(pipe4, x,y, cv = 3, scoring = 'accuracy', error_score = 'raise').mean()"
   ]
  },
  {
   "cell_type": "code",
   "execution_count": 38,
   "id": "e320015f",
   "metadata": {},
   "outputs": [
    {
     "data": {
      "text/plain": [
       "0.007096412140940245"
      ]
     },
     "execution_count": 38,
     "metadata": {},
     "output_type": "execute_result"
    }
   ],
   "source": [
    "cross_val_score(pipe4, x,y, cv = 3, scoring = 'accuracy', error_score = 'raise').std()"
   ]
  },
  {
   "cell_type": "code",
   "execution_count": null,
   "id": "f21c75f2",
   "metadata": {},
   "outputs": [],
   "source": []
  }
 ],
 "metadata": {
  "kernelspec": {
   "display_name": "Python 3 (ipykernel)",
   "language": "python",
   "name": "python3"
  },
  "language_info": {
   "codemirror_mode": {
    "name": "ipython",
    "version": 3
   },
   "file_extension": ".py",
   "mimetype": "text/x-python",
   "name": "python",
   "nbconvert_exporter": "python",
   "pygments_lexer": "ipython3",
   "version": "3.9.7"
  }
 },
 "nbformat": 4,
 "nbformat_minor": 5
}
